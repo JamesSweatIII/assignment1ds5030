{
 "cells": [
  {
   "cell_type": "markdown",
   "id": "87b91d83",
   "metadata": {},
   "source": [
    "# Assignment 1\n",
    "### Understanding Uncertainty\n",
    "### Due 9/5"
   ]
  },
  {
   "cell_type": "markdown",
   "id": "380e339f",
   "metadata": {},
   "source": [
    "1. Create a new public repo on Github under your account. Include a readme file.\n",
    "2. Clone it to your machine. Put this file into that repo.\n",
    "3. Use the following function to download the example data for the course:"
   ]
  },
  {
   "cell_type": "code",
   "execution_count": 4,
   "id": "2d62b4f6",
   "metadata": {},
   "outputs": [
    {
     "name": "stdout",
     "output_type": "stream",
     "text": [
      "Download file already exists\n",
      "Data directory already exists\n"
     ]
    }
   ],
   "source": [
    "def download_data(force=False):\n",
    "    \"\"\"Download and extract course data from Zenodo.\"\"\"\n",
    "    import urllib.request, zipfile, os\n",
    "    \n",
    "    zip_path = 'data.zip'\n",
    "    data_dir = 'data'\n",
    "    \n",
    "    if not os.path.exists(zip_path) or force:\n",
    "        print(\"Downloading course data\")\n",
    "        urllib.request.urlretrieve(\n",
    "            'https://zenodo.org/records/16954427/files/data.zip?download=1',\n",
    "            zip_path\n",
    "        )\n",
    "        print(\"Download complete\")\n",
    "    else:\n",
    "        print(\"Download file already exists\")\n",
    "        \n",
    "    if not os.path.exists(data_dir) or force:\n",
    "        print(\"Extracting data files...\")\n",
    "        with zipfile.ZipFile(zip_path, 'r') as zip_ref:\n",
    "            zip_ref.extractall(data_dir)\n",
    "        print(\"Data extracted\")\n",
    "    else:\n",
    "        print(\"Data directory already exists\")\n",
    "\n",
    "download_data()"
   ]
  },
  {
   "cell_type": "markdown",
   "id": "01db0045",
   "metadata": {},
   "source": [
    "4. Open one of the datasets using Pandas:\n",
    "    1. `ames_prices.csv`: Housing characteristics and prices\n",
    "    2. `college_completion.csv`: Public, nonprofit, and for-profit educational institutions, graduation rates, and financial aid\n",
    "    3. `ForeignGifts_edu.csv`: Monetary and in-kind transfers from foreign entities to U.S. educational institutions\n",
    "    4. `iowa.csv`: Liquor sales in Iowa, at the transaction level\n",
    "    5. `metabric.csv`: Cancer patient and outcome data\n",
    "    6. `mn_police_use_of_force.csv`: Records of physical altercations between Minnessota police and private citizens\n",
    "    7. `nhanes_data_17_18.csv`: National Health and Nutrition Examination Survey\n",
    "    8. `tuna.csv`: Yellowfin Tuna Genome (I don't recommend this one; it's just a sequence of G, C, A, T )\n",
    "    9. `va_procurement.csv`: Public spending by the state of Virginia"
   ]
  },
  {
   "cell_type": "code",
   "execution_count": 5,
   "id": "ba465aad",
   "metadata": {},
   "outputs": [
    {
     "name": "stdout",
     "output_type": "stream",
     "text": [
      "   Order        PID  area   price  MS.SubClass MS.Zoning  Lot.Frontage  \\\n",
      "0      1  526301100  1656  215000           20        RL         141.0   \n",
      "1      2  526350040   896  105000           20        RH          80.0   \n",
      "2      3  526351010  1329  172000           20        RL          81.0   \n",
      "3      4  526353030  2110  244000           20        RL          93.0   \n",
      "4      5  527105010  1629  189900           60        RL          74.0   \n",
      "\n",
      "   Lot.Area Street Alley  ... Screen.Porch Pool.Area Pool.QC  Fence  \\\n",
      "0     31770   Pave   NaN  ...            0         0     NaN    NaN   \n",
      "1     11622   Pave   NaN  ...          120         0     NaN  MnPrv   \n",
      "2     14267   Pave   NaN  ...            0         0     NaN    NaN   \n",
      "3     11160   Pave   NaN  ...            0         0     NaN    NaN   \n",
      "4     13830   Pave   NaN  ...            0         0     NaN  MnPrv   \n",
      "\n",
      "  Misc.Feature Misc.Val Mo.Sold Yr.Sold Sale.Type Sale.Condition  \n",
      "0          NaN        0       5    2010       WD          Normal  \n",
      "1          NaN        0       6    2010       WD          Normal  \n",
      "2         Gar2    12500       6    2010       WD          Normal  \n",
      "3          NaN        0       4    2010       WD          Normal  \n",
      "4          NaN        0       3    2010       WD          Normal  \n",
      "\n",
      "[5 rows x 82 columns]\n",
      "<class 'pandas.core.frame.DataFrame'>\n",
      "RangeIndex: 2930 entries, 0 to 2929\n",
      "Data columns (total 82 columns):\n",
      " #   Column           Non-Null Count  Dtype  \n",
      "---  ------           --------------  -----  \n",
      " 0   Order            2930 non-null   int64  \n",
      " 1   PID              2930 non-null   int64  \n",
      " 2   area             2930 non-null   int64  \n",
      " 3   price            2930 non-null   int64  \n",
      " 4   MS.SubClass      2930 non-null   int64  \n",
      " 5   MS.Zoning        2930 non-null   object \n",
      " 6   Lot.Frontage     2440 non-null   float64\n",
      " 7   Lot.Area         2930 non-null   int64  \n",
      " 8   Street           2930 non-null   object \n",
      " 9   Alley            198 non-null    object \n",
      " 10  Lot.Shape        2930 non-null   object \n",
      " 11  Land.Contour     2930 non-null   object \n",
      " 12  Utilities        2930 non-null   object \n",
      " 13  Lot.Config       2930 non-null   object \n",
      " 14  Land.Slope       2930 non-null   object \n",
      " 15  Neighborhood     2930 non-null   object \n",
      " 16  Condition.1      2930 non-null   object \n",
      " 17  Condition.2      2930 non-null   object \n",
      " 18  Bldg.Type        2930 non-null   object \n",
      " 19  House.Style      2930 non-null   object \n",
      " 20  Overall.Qual     2930 non-null   int64  \n",
      " 21  Overall.Cond     2930 non-null   int64  \n",
      " 22  Year.Built       2930 non-null   int64  \n",
      " 23  Year.Remod.Add   2930 non-null   int64  \n",
      " 24  Roof.Style       2930 non-null   object \n",
      " 25  Roof.Matl        2930 non-null   object \n",
      " 26  Exterior.1st     2930 non-null   object \n",
      " 27  Exterior.2nd     2930 non-null   object \n",
      " 28  Mas.Vnr.Type     1155 non-null   object \n",
      " 29  Mas.Vnr.Area     2907 non-null   float64\n",
      " 30  Exter.Qual       2930 non-null   object \n",
      " 31  Exter.Cond       2930 non-null   object \n",
      " 32  Foundation       2930 non-null   object \n",
      " 33  Bsmt.Qual        2850 non-null   object \n",
      " 34  Bsmt.Cond        2850 non-null   object \n",
      " 35  Bsmt.Exposure    2847 non-null   object \n",
      " 36  BsmtFin.Type.1   2850 non-null   object \n",
      " 37  BsmtFin.SF.1     2929 non-null   float64\n",
      " 38  BsmtFin.Type.2   2849 non-null   object \n",
      " 39  BsmtFin.SF.2     2929 non-null   float64\n",
      " 40  Bsmt.Unf.SF      2929 non-null   float64\n",
      " 41  Total.Bsmt.SF    2929 non-null   float64\n",
      " 42  Heating          2930 non-null   object \n",
      " 43  Heating.QC       2930 non-null   object \n",
      " 44  Central.Air      2930 non-null   object \n",
      " 45  Electrical       2929 non-null   object \n",
      " 46  X1st.Flr.SF      2930 non-null   int64  \n",
      " 47  X2nd.Flr.SF      2930 non-null   int64  \n",
      " 48  Low.Qual.Fin.SF  2930 non-null   int64  \n",
      " 49  Bsmt.Full.Bath   2928 non-null   float64\n",
      " 50  Bsmt.Half.Bath   2928 non-null   float64\n",
      " 51  Full.Bath        2930 non-null   int64  \n",
      " 52  Half.Bath        2930 non-null   int64  \n",
      " 53  Bedroom.AbvGr    2930 non-null   int64  \n",
      " 54  Kitchen.AbvGr    2930 non-null   int64  \n",
      " 55  Kitchen.Qual     2930 non-null   object \n",
      " 56  TotRms.AbvGrd    2930 non-null   int64  \n",
      " 57  Functional       2930 non-null   object \n",
      " 58  Fireplaces       2930 non-null   int64  \n",
      " 59  Fireplace.Qu     1508 non-null   object \n",
      " 60  Garage.Type      2773 non-null   object \n",
      " 61  Garage.Yr.Blt    2771 non-null   float64\n",
      " 62  Garage.Finish    2771 non-null   object \n",
      " 63  Garage.Cars      2929 non-null   float64\n",
      " 64  Garage.Area      2929 non-null   float64\n",
      " 65  Garage.Qual      2771 non-null   object \n",
      " 66  Garage.Cond      2771 non-null   object \n",
      " 67  Paved.Drive      2930 non-null   object \n",
      " 68  Wood.Deck.SF     2930 non-null   int64  \n",
      " 69  Open.Porch.SF    2930 non-null   int64  \n",
      " 70  Enclosed.Porch   2930 non-null   int64  \n",
      " 71  X3Ssn.Porch      2930 non-null   int64  \n",
      " 72  Screen.Porch     2930 non-null   int64  \n",
      " 73  Pool.Area        2930 non-null   int64  \n",
      " 74  Pool.QC          13 non-null     object \n",
      " 75  Fence            572 non-null    object \n",
      " 76  Misc.Feature     106 non-null    object \n",
      " 77  Misc.Val         2930 non-null   int64  \n",
      " 78  Mo.Sold          2930 non-null   int64  \n",
      " 79  Yr.Sold          2930 non-null   int64  \n",
      " 80  Sale.Type        2930 non-null   object \n",
      " 81  Sale.Condition   2930 non-null   object \n",
      "dtypes: float64(11), int64(28), object(43)\n",
      "memory usage: 1.8+ MB\n",
      "None\n"
     ]
    }
   ],
   "source": [
    "import pandas as pd\n",
    "\n",
    "df = pd.read_csv(\"/Users/VIDAL2/Desktop/1Masters/DS5030/assignments/assignment1ds5030/data/ames_prices.csv\")\n",
    "\n",
    "print(df.head())\n",
    "print(df.info())"
   ]
  },
  {
   "cell_type": "markdown",
   "id": "fa5cade1",
   "metadata": {},
   "source": [
    "5. Pick two or three variables and briefly analyze them\n",
    "    - Is it a categorical or numeric variable?\n",
    "    - How many missing values are there? (`df['var'].isna()` and `np.sum()`)\n",
    "    - If categorical, tabulate the values (`df['var'].value_counts()`) and if numeric, get a summary (`df['var'].describe()`)"
   ]
  },
  {
   "cell_type": "code",
   "execution_count": 6,
   "id": "cd29300d",
   "metadata": {},
   "outputs": [
    {
     "data": {
      "text/plain": [
       "(count      2930.000000\n",
       " mean     180796.060068\n",
       " std       79886.692357\n",
       " min       12789.000000\n",
       " 25%      129500.000000\n",
       " 50%      160000.000000\n",
       " 75%      213500.000000\n",
       " max      755000.000000\n",
       " Name: price, dtype: float64,\n",
       " np.int64(0),\n",
       " MS.Zoning\n",
       " RL         2273\n",
       " RM          462\n",
       " FV          139\n",
       " RH           27\n",
       " C (all)      25\n",
       " Name: count, dtype: int64,\n",
       " np.int64(0),\n",
       " count    2440.000000\n",
       " mean       69.224590\n",
       " std        23.365335\n",
       " min        21.000000\n",
       " 25%        58.000000\n",
       " 50%        68.000000\n",
       " 75%        80.000000\n",
       " max       313.000000\n",
       " Name: Lot.Frontage, dtype: float64,\n",
       " np.int64(490))"
      ]
     },
     "execution_count": 6,
     "metadata": {},
     "output_type": "execute_result"
    }
   ],
   "source": [
    "# Pick 3 variables for analysis: price (numeric), MS.Zoning (categorical), Lot.Frontage (numeric)\n",
    "\n",
    "# 1. price\n",
    "price_summary = df['price'].describe()\n",
    "price_missing = df['price'].isna().sum()\n",
    "\n",
    "# 2. MS.Zoning\n",
    "zoning_counts = df['MS.Zoning'].value_counts()\n",
    "zoning_missing = df['MS.Zoning'].isna().sum()\n",
    "\n",
    "# 3. Lot.Frontage\n",
    "frontage_summary = df['Lot.Frontage'].describe()\n",
    "frontage_missing = df['Lot.Frontage'].isna().sum()\n",
    "\n",
    "(price_summary, price_missing, zoning_counts.head(), zoning_missing, frontage_summary, frontage_missing)"
   ]
  },
  {
   "cell_type": "markdown",
   "id": "dbf2318a",
   "metadata": {},
   "source": [
    "6. What are some questions and prediction tools you could create using these data? Who would the stakeholder be for that prediction tool? What practical or ethical questions would it create? What other data would you want, that are not available in your data?"
   ]
  },
  {
   "cell_type": "markdown",
   "id": "25833bb9",
   "metadata": {},
   "source": [
    "With these housing data, one could build a prediction tool to estimate home sale prices based on property features like lot size, frontage, and zoning. Stakeholders might include real estate agents, home buyers, and city planners seeking better market insights. Practically and ethically, such a model could risk reinforcing existing neighborhood inequalities or pricing people out of certain areas if used without caution. Additional data on neighborhood amenities, school quality, or demographic shifts would strengthen the model while helping ensure more equitable applications. "
   ]
  },
  {
   "cell_type": "markdown",
   "id": "a4a7ddc7",
   "metadata": {},
   "source": [
    "7. Commit your work to the repo (`git commit -am 'Finish assignment'` at the command line, or use the Git panel in VS Code). Push your work back to Github and submit the link on Canvas in the assignment tab."
   ]
  }
 ],
 "metadata": {
  "kernelspec": {
   "display_name": "ds5030",
   "language": "python",
   "name": "python3"
  },
  "language_info": {
   "codemirror_mode": {
    "name": "ipython",
    "version": 3
   },
   "file_extension": ".py",
   "mimetype": "text/x-python",
   "name": "python",
   "nbconvert_exporter": "python",
   "pygments_lexer": "ipython3",
   "version": "3.13.5"
  }
 },
 "nbformat": 4,
 "nbformat_minor": 5
}
